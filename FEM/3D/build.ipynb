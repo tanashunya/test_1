{
 "cells": [
  {
   "cell_type": "code",
   "execution_count": 3,
   "metadata": {},
   "outputs": [
    {
     "name": "stdout",
     "output_type": "stream",
     "text": [
      "Defaulting to user installation because normal site-packages is not writeable\n",
      "Requirement already satisfied: gmsh in /home/syunya-unix/.local/lib/python3.10/site-packages (from -r requirements.txt (line 1)) (4.13.1)\n",
      "Collecting mapdl-archive\n",
      "  Downloading mapdl_archive-0.2.5-cp310-cp310-manylinux_2_17_x86_64.manylinux2014_x86_64.whl (328 kB)\n",
      "\u001b[2K     \u001b[90m━━━━━━━━━━━━━━━━━━━━━━━━━━━━━━━━━━━━━━━\u001b[0m \u001b[32m328.8/328.8 KB\u001b[0m \u001b[31m7.4 MB/s\u001b[0m eta \u001b[36m0:00:00\u001b[0ma \u001b[36m0:00:01\u001b[0m\n",
      "\u001b[?25hCollecting pyvista\n",
      "  Downloading pyvista-0.44.2-py3-none-any.whl (2.2 MB)\n",
      "\u001b[2K     \u001b[90m━━━━━━━━━━━━━━━━━━━━━━━━━━━━━━━━━━━━━━━━\u001b[0m \u001b[32m2.2/2.2 MB\u001b[0m \u001b[31m11.2 MB/s\u001b[0m eta \u001b[36m0:00:00\u001b[0ma \u001b[36m0:00:01\u001b[0m\n",
      "\u001b[?25hRequirement already satisfied: numpy in /home/syunya-unix/.local/lib/python3.10/site-packages (from -r requirements.txt (line 4)) (1.25.0)\n",
      "Collecting meshio\n",
      "  Downloading meshio-5.3.5-py3-none-any.whl (166 kB)\n",
      "\u001b[2K     \u001b[90m━━━━━━━━━━━━━━━━━━━━━━━━━━━━━━━━━━━━━━━\u001b[0m \u001b[32m166.2/166.2 KB\u001b[0m \u001b[31m9.8 MB/s\u001b[0m eta \u001b[36m0:00:00\u001b[0m\n",
      "\u001b[?25hRequirement already satisfied: ipykernel in /home/syunya-unix/.local/lib/python3.10/site-packages (from -r requirements.txt (line 6)) (6.29.4)\n",
      "Requirement already satisfied: matplotlib>=3.0.1 in /usr/lib/python3/dist-packages (from pyvista->-r requirements.txt (line 3)) (3.5.1)\n",
      "Collecting scooby>=0.5.1\n",
      "  Downloading scooby-0.10.0-py3-none-any.whl (18 kB)\n",
      "Collecting vtk<9.4.0\n",
      "  Downloading vtk-9.3.1-cp310-cp310-manylinux_2_17_x86_64.manylinux2014_x86_64.whl (92.1 MB)\n",
      "\u001b[2K     \u001b[90m━━━━━━━━━━━━━━━━━━━━━━━━━━━━━━━━━━━━━━━━\u001b[0m \u001b[32m92.1/92.1 MB\u001b[0m \u001b[31m9.5 MB/s\u001b[0m eta \u001b[36m0:00:00\u001b[0m:00:01\u001b[0m00:01\u001b[0m\n",
      "\u001b[?25hCollecting pooch\n",
      "  Downloading pooch-1.8.2-py3-none-any.whl (64 kB)\n",
      "\u001b[2K     \u001b[90m━━━━━━━━━━━━━━━━━━━━━━━━━━━━━━━━━━━━━━━━\u001b[0m \u001b[32m64.6/64.6 KB\u001b[0m \u001b[31m8.2 MB/s\u001b[0m eta \u001b[36m0:00:00\u001b[0m\n",
      "\u001b[?25hRequirement already satisfied: pillow in /home/syunya-unix/.local/lib/python3.10/site-packages (from pyvista->-r requirements.txt (line 3)) (10.3.0)\n",
      "Requirement already satisfied: typing-extensions in /home/syunya-unix/.local/lib/python3.10/site-packages (from pyvista->-r requirements.txt (line 3)) (4.11.0)\n",
      "Collecting rich\n",
      "  Downloading rich-13.9.4-py3-none-any.whl (242 kB)\n",
      "\u001b[2K     \u001b[90m━━━━━━━━━━━━━━━━━━━━━━━━━━━━━━━━━━━━━━\u001b[0m \u001b[32m242.4/242.4 KB\u001b[0m \u001b[31m10.0 MB/s\u001b[0m eta \u001b[36m0:00:00\u001b[0m\n",
      "\u001b[?25hRequirement already satisfied: debugpy>=1.6.5 in /home/syunya-unix/.local/lib/python3.10/site-packages (from ipykernel->-r requirements.txt (line 6)) (1.8.1)\n",
      "Requirement already satisfied: psutil in /home/syunya-unix/.local/lib/python3.10/site-packages (from ipykernel->-r requirements.txt (line 6)) (5.9.8)\n",
      "Requirement already satisfied: traitlets>=5.4.0 in /home/syunya-unix/.local/lib/python3.10/site-packages (from ipykernel->-r requirements.txt (line 6)) (5.14.2)\n",
      "Requirement already satisfied: pyzmq>=24 in /home/syunya-unix/.local/lib/python3.10/site-packages (from ipykernel->-r requirements.txt (line 6)) (26.0.0)\n",
      "Requirement already satisfied: jupyter-client>=6.1.12 in /home/syunya-unix/.local/lib/python3.10/site-packages (from ipykernel->-r requirements.txt (line 6)) (8.6.1)\n",
      "Requirement already satisfied: tornado>=6.1 in /home/syunya-unix/.local/lib/python3.10/site-packages (from ipykernel->-r requirements.txt (line 6)) (6.4)\n",
      "Requirement already satisfied: comm>=0.1.1 in /home/syunya-unix/.local/lib/python3.10/site-packages (from ipykernel->-r requirements.txt (line 6)) (0.2.2)\n",
      "Requirement already satisfied: matplotlib-inline>=0.1 in /home/syunya-unix/.local/lib/python3.10/site-packages (from ipykernel->-r requirements.txt (line 6)) (0.1.6)\n",
      "Requirement already satisfied: packaging in /home/syunya-unix/.local/lib/python3.10/site-packages (from ipykernel->-r requirements.txt (line 6)) (24.0)\n",
      "Requirement already satisfied: jupyter-core!=5.0.*,>=4.12 in /home/syunya-unix/.local/lib/python3.10/site-packages (from ipykernel->-r requirements.txt (line 6)) (5.7.2)\n",
      "Requirement already satisfied: nest-asyncio in /home/syunya-unix/.local/lib/python3.10/site-packages (from ipykernel->-r requirements.txt (line 6)) (1.6.0)\n",
      "Requirement already satisfied: ipython>=7.23.1 in /home/syunya-unix/.local/lib/python3.10/site-packages (from ipykernel->-r requirements.txt (line 6)) (8.23.0)\n",
      "Requirement already satisfied: decorator in /home/syunya-unix/.local/lib/python3.10/site-packages (from ipython>=7.23.1->ipykernel->-r requirements.txt (line 6)) (5.1.1)\n",
      "Requirement already satisfied: stack-data in /home/syunya-unix/.local/lib/python3.10/site-packages (from ipython>=7.23.1->ipykernel->-r requirements.txt (line 6)) (0.6.3)\n",
      "Requirement already satisfied: prompt-toolkit<3.1.0,>=3.0.41 in /home/syunya-unix/.local/lib/python3.10/site-packages (from ipython>=7.23.1->ipykernel->-r requirements.txt (line 6)) (3.0.43)\n",
      "Requirement already satisfied: jedi>=0.16 in /home/syunya-unix/.local/lib/python3.10/site-packages (from ipython>=7.23.1->ipykernel->-r requirements.txt (line 6)) (0.19.1)\n",
      "Requirement already satisfied: pygments>=2.4.0 in /home/syunya-unix/.local/lib/python3.10/site-packages (from ipython>=7.23.1->ipykernel->-r requirements.txt (line 6)) (2.17.2)\n",
      "Requirement already satisfied: pexpect>4.3 in /home/syunya-unix/.local/lib/python3.10/site-packages (from ipython>=7.23.1->ipykernel->-r requirements.txt (line 6)) (4.9.0)\n",
      "Requirement already satisfied: exceptiongroup in /home/syunya-unix/.local/lib/python3.10/site-packages (from ipython>=7.23.1->ipykernel->-r requirements.txt (line 6)) (1.2.0)\n",
      "Requirement already satisfied: python-dateutil>=2.8.2 in /home/syunya-unix/.local/lib/python3.10/site-packages (from jupyter-client>=6.1.12->ipykernel->-r requirements.txt (line 6)) (2.9.0.post0)\n",
      "Requirement already satisfied: platformdirs>=2.5 in /home/syunya-unix/.local/lib/python3.10/site-packages (from jupyter-core!=5.0.*,>=4.12->ipykernel->-r requirements.txt (line 6)) (4.2.0)\n",
      "Collecting requests>=2.19.0\n",
      "  Downloading requests-2.32.3-py3-none-any.whl (64 kB)\n",
      "\u001b[2K     \u001b[90m━━━━━━━━━━━━━━━━━━━━━━━━━━━━━━━━━━━━━━━━\u001b[0m \u001b[32m64.9/64.9 KB\u001b[0m \u001b[31m8.8 MB/s\u001b[0m eta \u001b[36m0:00:00\u001b[0m\n",
      "\u001b[?25hCollecting markdown-it-py>=2.2.0\n",
      "  Downloading markdown_it_py-3.0.0-py3-none-any.whl (87 kB)\n",
      "\u001b[2K     \u001b[90m━━━━━━━━━━━━━━━━━━━━━━━━━━━━━━━━━━━━━━━━\u001b[0m \u001b[32m87.5/87.5 KB\u001b[0m \u001b[31m7.3 MB/s\u001b[0m eta \u001b[36m0:00:00\u001b[0m\n",
      "\u001b[?25hRequirement already satisfied: parso<0.9.0,>=0.8.3 in /home/syunya-unix/.local/lib/python3.10/site-packages (from jedi>=0.16->ipython>=7.23.1->ipykernel->-r requirements.txt (line 6)) (0.8.4)\n",
      "Collecting mdurl~=0.1\n",
      "  Downloading mdurl-0.1.2-py3-none-any.whl (10.0 kB)\n",
      "Requirement already satisfied: ptyprocess>=0.5 in /home/syunya-unix/.local/lib/python3.10/site-packages (from pexpect>4.3->ipython>=7.23.1->ipykernel->-r requirements.txt (line 6)) (0.7.0)\n",
      "Requirement already satisfied: wcwidth in /home/syunya-unix/.local/lib/python3.10/site-packages (from prompt-toolkit<3.1.0,>=3.0.41->ipython>=7.23.1->ipykernel->-r requirements.txt (line 6)) (0.2.13)\n",
      "Requirement already satisfied: six>=1.5 in /usr/lib/python3/dist-packages (from python-dateutil>=2.8.2->jupyter-client>=6.1.12->ipykernel->-r requirements.txt (line 6)) (1.16.0)\n",
      "Collecting certifi>=2017.4.17\n",
      "  Downloading certifi-2025.1.31-py3-none-any.whl (166 kB)\n",
      "\u001b[2K     \u001b[90m━━━━━━━━━━━━━━━━━━━━━━━━━━━━━━━━━━━━━━━\u001b[0m \u001b[32m166.4/166.4 KB\u001b[0m \u001b[31m9.2 MB/s\u001b[0m eta \u001b[36m0:00:00\u001b[0m\n",
      "\u001b[?25hCollecting charset-normalizer<4,>=2\n",
      "  Downloading charset_normalizer-3.4.1-cp310-cp310-manylinux_2_17_x86_64.manylinux2014_x86_64.whl (146 kB)\n",
      "\u001b[2K     \u001b[90m━━━━━━━━━━━━━━━━━━━━━━━━━━━━━━━━━━━━━━━\u001b[0m \u001b[32m146.1/146.1 KB\u001b[0m \u001b[31m9.8 MB/s\u001b[0m eta \u001b[36m0:00:00\u001b[0m\n",
      "\u001b[?25hCollecting urllib3<3,>=1.21.1\n",
      "  Downloading urllib3-2.3.0-py3-none-any.whl (128 kB)\n",
      "\u001b[2K     \u001b[90m━━━━━━━━━━━━━━━━━━━━━━━━━━━━━━━━━━━━━━━\u001b[0m \u001b[32m128.4/128.4 KB\u001b[0m \u001b[31m7.6 MB/s\u001b[0m eta \u001b[36m0:00:00\u001b[0m\n",
      "\u001b[?25hRequirement already satisfied: idna<4,>=2.5 in /usr/lib/python3/dist-packages (from requests>=2.19.0->pooch->pyvista->-r requirements.txt (line 3)) (3.3)\n",
      "Requirement already satisfied: executing>=1.2.0 in /home/syunya-unix/.local/lib/python3.10/site-packages (from stack-data->ipython>=7.23.1->ipykernel->-r requirements.txt (line 6)) (2.0.1)\n",
      "Requirement already satisfied: pure-eval in /home/syunya-unix/.local/lib/python3.10/site-packages (from stack-data->ipython>=7.23.1->ipykernel->-r requirements.txt (line 6)) (0.2.2)\n",
      "Requirement already satisfied: asttokens>=2.1.0 in /home/syunya-unix/.local/lib/python3.10/site-packages (from stack-data->ipython>=7.23.1->ipykernel->-r requirements.txt (line 6)) (2.4.1)\n",
      "Installing collected packages: vtk, urllib3, scooby, mdurl, charset-normalizer, certifi, requests, markdown-it-py, rich, pooch, pyvista, meshio, mapdl-archive\n",
      "Successfully installed certifi-2025.1.31 charset-normalizer-3.4.1 mapdl-archive-0.2.5 markdown-it-py-3.0.0 mdurl-0.1.2 meshio-5.3.5 pooch-1.8.2 pyvista-0.44.2 requests-2.32.3 rich-13.9.4 scooby-0.10.0 urllib3-2.3.0 vtk-9.3.1\n",
      "Note: you may need to restart the kernel to use updated packages.\n"
     ]
    }
   ],
   "source": [
    "%pip install -r requirements.txt"
   ]
  },
  {
   "cell_type": "code",
   "execution_count": 1,
   "metadata": {},
   "outputs": [
    {
     "name": "stdout",
     "output_type": "stream",
     "text": [
      "/home/syunya-unix/MyWorkspace/test_1/FEM/3D\n",
      "50A470\t\t\t\t\t   edge.h\n",
      "CMakeLists.txt\t\t\t\t   element.cpp\n",
      "FEM_3D.cpp\t\t\t\t   element.h\n",
      "FEM_3D.cpython-310-x86_64-linux-gnu.so\t   magic.h\n",
      "FEM_3D.cpython-312-x86_64-linux-gnu.so\t   magnet_iron_model.msh\n",
      "FEM_3D.h\t\t\t\t   main.py\n",
      "GenMatrix.cpp\t\t\t\t   mesh\n",
      "GenMatrix.h\t\t\t\t   mesh_Dmodel\n",
      "MOTOR_FEM.cpython-310-x86_64-linux-gnu.so  meshing3D.py\n",
      "Motor_FEM.cpp\t\t\t\t   mfem_test.py\n",
      "MyFunction.cpp\t\t\t\t   mfem_test_electromagnetics.py\n",
      "MyFunction.h\t\t\t\t   node.cpp\n",
      "__pycache__\t\t\t\t   node.h\n",
      "archive.cdb\t\t\t\t   panda3d_test.py\n",
      "build.ipynb\t\t\t\t   requirements.txt\n",
      "const.h\t\t\t\t\t   vtk\n",
      "edge.cpp\n"
     ]
    }
   ],
   "source": [
    "!pwd\n",
    "\n",
    "!ls"
   ]
  },
  {
   "cell_type": "code",
   "execution_count": 2,
   "metadata": {},
   "outputs": [
    {
     "name": "stdout",
     "output_type": "stream",
     "text": [
      "Cloning into 'pybind11'...\n",
      "remote: Enumerating objects: 30537, done.\u001b[K\n",
      "remote: Counting objects: 100% (28/28), done.\u001b[K\n",
      "remote: Compressing objects: 100% (22/22), done.\u001b[K\n",
      "remote: Total 30537 (delta 10), reused 6 (delta 6), pack-reused 30509 (from 2)\u001b[K\n",
      "Receiving objects: 100% (30537/30537), 11.90 MiB | 10.19 MiB/s, done.\n",
      "Resolving deltas: 100% (21664/21664), done.\n",
      "/home/syunya-unix/MyWorkspace/test_1/FEM/3D/build\n",
      "-- The C compiler identification is GNU 11.4.0\n"
     ]
    },
    {
     "name": "stderr",
     "output_type": "stream",
     "text": [
      "/home/syunya-unix/.local/lib/python3.10/site-packages/IPython/core/magics/osm.py:417: UserWarning: This is now an optional IPython functionality, setting dhist requires you to install the `pickleshare` library.\n",
      "  self.shell.db['dhist'] = compress_dhist(dhist)[-100:]\n"
     ]
    },
    {
     "name": "stdout",
     "output_type": "stream",
     "text": [
      "-- The CXX compiler identification is GNU 11.4.0\n",
      "-- Detecting C compiler ABI info\n",
      "-- Detecting C compiler ABI info - done\n",
      "-- Check for working C compiler: /bin/cc - skipped\n",
      "-- Detecting C compile features\n",
      "-- Detecting C compile features - done\n",
      "-- Detecting CXX compiler ABI info\n",
      "-- Detecting CXX compiler ABI info - done\n",
      "-- Check for working CXX compiler: /bin/c++ - skipped\n",
      "-- Detecting CXX compile features\n",
      "-- Detecting CXX compile features - done\n",
      "-- pybind11 v3.0.0 dev1\n",
      "-- Found Python: /bin/python3.10 (found suitable version \"3.10.12\", minimum required is \"3.8\") found components: Interpreter Development.Module Development.Embed \n",
      "\u001b[0mUsing compatibility mode for Python, set PYBIND11_FINDPYTHON to NEW/OLD to silence this message\u001b[0m\n",
      "-- Performing Test HAS_FLTO\n",
      "-- Performing Test HAS_FLTO - Success\n",
      "-- Configuring done\n",
      "-- Generating done\n",
      "-- Build files have been written to: /home/syunya-unix/MyWorkspace/test_1/FEM/3D/build\n",
      "[ 16%] \u001b[32mBuilding CXX object CMakeFiles/other.dir/node.cpp.o\u001b[0m\n",
      "[ 33%] \u001b[32mBuilding CXX object CMakeFiles/other.dir/element.cpp.o\u001b[0m\n",
      "[ 50%] \u001b[32mBuilding CXX object CMakeFiles/other.dir/edge.cpp.o\u001b[0m\n",
      "[ 66%] \u001b[32m\u001b[1mLinking CXX static library libother.a\u001b[0m\n",
      "[ 66%] Built target other\n",
      "[ 83%] \u001b[32mBuilding CXX object CMakeFiles/FEM_3D.dir/FEM_3D.cpp.o\u001b[0m\n",
      "[100%] \u001b[32m\u001b[1mLinking CXX shared module FEM_3D.cpython-310-x86_64-linux-gnu.so\u001b[0m\n",
      "[100%] Built target FEM_3D\n",
      "/home/syunya-unix/MyWorkspace/test_1/FEM/3D\n",
      "mv: cannot stat './build/FEM_3D.cpython-312-x86_64-linux-gnu.so': No such file or directory\n"
     ]
    }
   ],
   "source": [
    "!git clone https://github.com/pybind/pybind11.git\n",
    "!mkdir build\n",
    "%cd build\n",
    "!cmake ..\n",
    "# !cmake -DCMAKE_BUILD_TYPE=Debug ..\n",
    "!make\n",
    "%cd ..\n",
    "%mv ./build/FEM_3D.cpython-312-x86_64-linux-gnu.so ./\n",
    "!rm -rf build\n",
    "!rm -rf pybind11\n"
   ]
  }
 ],
 "metadata": {
  "kernelspec": {
   "display_name": "Python 3",
   "language": "python",
   "name": "python3"
  },
  "language_info": {
   "codemirror_mode": {
    "name": "ipython",
    "version": 3
   },
   "file_extension": ".py",
   "mimetype": "text/x-python",
   "name": "python",
   "nbconvert_exporter": "python",
   "pygments_lexer": "ipython3",
   "version": "3.10.12"
  }
 },
 "nbformat": 4,
 "nbformat_minor": 2
}
