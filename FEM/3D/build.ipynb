{
 "cells": [
  {
   "cell_type": "code",
   "execution_count": 1,
   "metadata": {},
   "outputs": [
    {
     "name": "stdout",
     "output_type": "stream",
     "text": [
      "/home/stanaka/workspace/test_1/FEM/3D\n",
      "50A470\t\t\t\t\t   MyFunction.h  main.py\n",
      "CMakeLists.txt\t\t\t\t   build\t mesh_Dmodel\n",
      "FEM_3D.cpp\t\t\t\t   build.ipynb\t node.cpp\n",
      "FEM_3D.cpython-310-x86_64-linux-gnu.so\t   const.h\t node.h\n",
      "GenMatrix.cpp\t\t\t\t   element.cpp\t pybind11\n",
      "GenMatrix.h\t\t\t\t   element.h\t vtk\n",
      "MOTOR_FEM.cpython-310-x86_64-linux-gnu.so  env1\n",
      "MyFunction.cpp\t\t\t\t   magic.h\n"
     ]
    }
   ],
   "source": [
    "!pwd\n",
    "\n",
    "!ls"
   ]
  },
  {
   "cell_type": "code",
   "execution_count": 17,
   "metadata": {},
   "outputs": [
    {
     "name": "stdout",
     "output_type": "stream",
     "text": [
      "fatal: destination path 'pybind11' already exists and is not an empty directory.\n",
      "/home/stanaka/workspace/test_1/FEM/3D/build\n",
      "-- The C compiler identification is GNU 13.2.0\n",
      "-- The CXX compiler identification is GNU 13.2.0\n",
      "-- Detecting C compiler ABI info\n",
      "-- Detecting C compiler ABI info - done\n",
      "-- Check for working C compiler: /usr/bin/cc - skipped\n",
      "-- Detecting C compile features\n",
      "-- Detecting C compile features - done\n",
      "-- Detecting CXX compiler ABI info\n",
      "-- Detecting CXX compiler ABI info - done\n",
      "-- Check for working CXX compiler: /usr/bin/c++ - skipped\n",
      "-- Detecting CXX compile features\n",
      "-- Detecting CXX compile features - done\n",
      "-- pybind11 v2.14.0 dev1\n",
      "-- Found PythonInterp: /home/stanaka/workspace/test_1/FEM/3D/env1/bin/python (found suitable version \"3.12.3\", minimum required is \"3.8\") \n",
      "-- Found PythonLibs: /usr/lib/x86_64-linux-gnu/libpython3.12.so\n",
      "-- Performing Test HAS_FLTO\n",
      "-- Performing Test HAS_FLTO - Success\n",
      "-- Configuring done (1.1s)\n",
      "-- Generating done (0.0s)\n",
      "-- Build files have been written to: /home/stanaka/workspace/test_1/FEM/3D/build\n",
      "[ 16%] \u001b[32mBuilding CXX object CMakeFiles/other.dir/node.cpp.o\u001b[0m\n",
      "[ 33%] \u001b[32mBuilding CXX object CMakeFiles/other.dir/element.cpp.o\u001b[0m\n",
      "[ 50%] \u001b[32mBuilding CXX object CMakeFiles/other.dir/edge.cpp.o\u001b[0m\n",
      "[ 66%] \u001b[32m\u001b[1mLinking CXX static library libother.a\u001b[0m\n",
      "[ 66%] Built target other\n",
      "[ 83%] \u001b[32mBuilding CXX object CMakeFiles/FEM_3D.dir/FEM_3D.cpp.o\u001b[0m\n",
      "[100%] \u001b[32m\u001b[1mLinking CXX shared module FEM_3D.cpython-312-x86_64-linux-gnu.so\u001b[0m\n",
      "[100%] Built target FEM_3D\n",
      "/home/stanaka/workspace/test_1/FEM/3D\n"
     ]
    }
   ],
   "source": [
    "!git clone https://github.com/pybind/pybind11.git\n",
    "!mkdir build\n",
    "%cd build\n",
    "!cmake ..\n",
    "# !cmake -DCMAKE_BUILD_TYPE=Debug ..\n",
    "!make\n",
    "%cd ..\n",
    "%mv ./build/FEM_3D.cpython-312-x86_64-linux-gnu.so ./\n",
    "!rm -rf build\n",
    "!rm -rf pybind11\n"
   ]
  }
 ],
 "metadata": {
  "kernelspec": {
   "display_name": "Python 3",
   "language": "python",
   "name": "python3"
  },
  "language_info": {
   "codemirror_mode": {
    "name": "ipython",
    "version": 3
   },
   "file_extension": ".py",
   "mimetype": "text/x-python",
   "name": "python",
   "nbconvert_exporter": "python",
   "pygments_lexer": "ipython3",
   "version": "3.12.3"
  }
 },
 "nbformat": 4,
 "nbformat_minor": 2
}
