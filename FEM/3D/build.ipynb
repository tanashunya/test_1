{
 "cells": [
  {
   "cell_type": "code",
   "execution_count": 5,
   "metadata": {},
   "outputs": [
    {
     "name": "stdout",
     "output_type": "stream",
     "text": [
      "/home/syunya-unix/MyWorkspace/MyGit/test_1/FEM/3D\n",
      "build.ipynb  main.py\n"
     ]
    }
   ],
   "source": [
    "!pwd\n",
    "\n",
    "!ls"
   ]
  },
  {
   "cell_type": "code",
   "execution_count": 7,
   "metadata": {},
   "outputs": [
    {
     "name": "stdout",
     "output_type": "stream",
     "text": [
      "fatal: destination path 'pybind11' already exists and is not an empty directory.\n",
      "mkdir: cannot create directory ‘build’: File exists\n",
      "/home/syunya-unix/MyWorkspace/MyGit/test_1/FEM/3D/build\n",
      "-- pybind11 v2.14.0 dev1\n",
      "-- Configuring done\n",
      "-- Generating done\n",
      "-- Build files have been written to: /home/syunya-unix/MyWorkspace/MyGit/test_1/FEM/3D/build\n",
      "[ 20%] \u001b[32mBuilding CXX object CMakeFiles/other.dir/GenMatrix.cpp.o\u001b[0m\n",
      "[ 40%] \u001b[32mBuilding CXX object CMakeFiles/other.dir/MyFunction.cpp.o\u001b[0m\n",
      "[ 60%] \u001b[32m\u001b[1mLinking CXX static library libother.a\u001b[0m\n",
      "[ 60%] Built target other\n",
      "[ 80%] \u001b[32mBuilding CXX object CMakeFiles/MOTOR_FEM.dir/Motor_FEM.cpp.o\u001b[0m\n",
      "\u001b[01m\u001b[K/home/syunya-unix/MyWorkspace/MyGit/test_1/FEM/3D/Motor_FEM.cpp:\u001b[m\u001b[K In member function ‘\u001b[01m\u001b[Kint MOTOR_FEM::read_akima()\u001b[m\u001b[K’:\n",
      "\u001b[01m\u001b[K/home/syunya-unix/MyWorkspace/MyGit/test_1/FEM/3D/Motor_FEM.cpp:416:23:\u001b[m\u001b[K \u001b[01;35m\u001b[Kwarning: \u001b[m\u001b[Kuse of assignment suppression and length modifier together in gnu_scanf format [\u001b[01;35m\u001b[K\u001b]8;;https://gcc.gnu.org/onlinedocs/gcc/Warning-Options.html#index-Wformat=\u0007-Wformat=\u001b]8;;\u0007\u001b[m\u001b[K]\n",
      "  416 |         if(fscanf(fp, \u001b[01;35m\u001b[K\"%lf,%*lf\"\u001b[m\u001b[K, &akima_data[i][0]) == 0){}\n",
      "      |                       \u001b[01;35m\u001b[K^~~~~~~~~~\u001b[m\u001b[K\n",
      "[100%] \u001b[32m\u001b[1mLinking CXX shared module MOTOR_FEM.cpython-310-x86_64-linux-gnu.so\u001b[0m\n",
      "[100%] Built target MOTOR_FEM\n",
      "/home/syunya-unix/MyWorkspace/MyGit/test_1/FEM/3D\n"
     ]
    }
   ],
   "source": [
    "!git clone https://github.com/pybind/pybind11.git\n",
    "!mkdir build\n",
    "%cd build\n",
    "!cmake -DCMAKE_BUILD_TYPE=Debug ..\n",
    "!make\n",
    "%cd ..\n",
    "%mv ./build/MOTOR_FEM.cpython-310-x86_64-linux-gnu.so ./"
   ]
  }
 ],
 "metadata": {
  "kernelspec": {
   "display_name": "Python 3",
   "language": "python",
   "name": "python3"
  },
  "language_info": {
   "codemirror_mode": {
    "name": "ipython",
    "version": 3
   },
   "file_extension": ".py",
   "mimetype": "text/x-python",
   "name": "python",
   "nbconvert_exporter": "python",
   "pygments_lexer": "ipython3",
   "version": "3.10.12"
  }
 },
 "nbformat": 4,
 "nbformat_minor": 2
}
