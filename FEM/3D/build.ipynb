{
 "cells": [
  {
   "cell_type": "code",
   "execution_count": 5,
   "metadata": {},
   "outputs": [
    {
     "name": "stdout",
     "output_type": "stream",
     "text": [
      "/home/syunya-unix/MyWorkspace/MyGit/test_1/FEM/3D\n",
      "build.ipynb  main.py\n"
     ]
    }
   ],
   "source": [
    "!pwd\n",
    "\n",
    "!ls"
   ]
  },
  {
   "cell_type": "code",
   "execution_count": 4,
   "metadata": {},
   "outputs": [
    {
     "name": "stdout",
     "output_type": "stream",
     "text": [
      "fatal: destination path 'pybind11' already exists and is not an empty directory.\n",
      "mkdir: cannot create directory ‘build’: File exists\n"
     ]
    },
    {
     "name": "stdout",
     "output_type": "stream",
     "text": [
      "/home/syunya-unix/MyWorkspace/MyGit/test_1/FEM/3D/build\n",
      "-- pybind11 v2.14.0 dev1\n",
      "-- Configuring done\n",
      "-- Generating done\n",
      "-- Build files have been written to: /home/syunya-unix/MyWorkspace/MyGit/test_1/FEM/3D/build\n",
      "\u001b[35m\u001b[1mConsolidate compiler generated dependencies of target other\u001b[0m\n",
      "[ 60%] Built target other\n",
      "\u001b[35m\u001b[1mConsolidate compiler generated dependencies of target FEM_3D\u001b[0m\n",
      "[ 80%] \u001b[32mBuilding CXX object CMakeFiles/FEM_3D.dir/FEM_3D.cpp.o\u001b[0m\n",
      "[100%] \u001b[32m\u001b[1mLinking CXX shared module FEM_3D.cpython-310-x86_64-linux-gnu.so\u001b[0m\n",
      "[100%] Built target FEM_3D\n",
      "/home/syunya-unix/MyWorkspace/MyGit/test_1/FEM/3D\n"
     ]
    }
   ],
   "source": [
    "!git clone https://github.com/pybind/pybind11.git\n",
    "!mkdir build\n",
    "%cd build\n",
    "!cmake ..\n",
    "# !cmake -DCMAKE_BUILD_TYPE=Debug ..\n",
    "!make\n",
    "%cd ..\n",
    "%mv ./build/FEM_3D.cpython-310-x86_64-linux-gnu.so ./"
   ]
  }
 ],
 "metadata": {
  "kernelspec": {
   "display_name": "Python 3",
   "language": "python",
   "name": "python3"
  },
  "language_info": {
   "codemirror_mode": {
    "name": "ipython",
    "version": 3
   },
   "file_extension": ".py",
   "mimetype": "text/x-python",
   "name": "python",
   "nbconvert_exporter": "python",
   "pygments_lexer": "ipython3",
   "version": "3.10.12"
  }
 },
 "nbformat": 4,
 "nbformat_minor": 2
}
