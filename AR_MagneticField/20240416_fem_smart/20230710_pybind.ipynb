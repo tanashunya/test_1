{
 "cells": [
  {
   "cell_type": "code",
   "execution_count": 11,
   "metadata": {},
   "outputs": [
    {
     "name": "stdout",
     "output_type": "stream",
     "text": [
      "Collecting cmake\n",
      "  Obtaining dependency information for cmake from https://files.pythonhosted.org/packages/48/79/10d15c399a6fb92738f8d02c69eae6f6df0b9c6b9545c947a29c2a45adea/cmake-3.27.9-py2.py3-none-manylinux2014_x86_64.manylinux_2_17_x86_64.whl.metadata\n",
      "  Downloading cmake-3.27.9-py2.py3-none-manylinux2014_x86_64.manylinux_2_17_x86_64.whl.metadata (6.3 kB)\n",
      "Downloading cmake-3.27.9-py2.py3-none-manylinux2014_x86_64.manylinux_2_17_x86_64.whl (26.1 MB)\n",
      "\u001b[2K   \u001b[90m━━━━━━━━━━━━━━━━━━━━━━━━━━━━━━━━━━━━━━━━\u001b[0m \u001b[32m26.1/26.1 MB\u001b[0m \u001b[31m37.5 MB/s\u001b[0m eta \u001b[36m0:00:00\u001b[0m00:01\u001b[0m00:01\u001b[0m\n",
      "\u001b[?25hInstalling collected packages: cmake\n",
      "Successfully installed cmake-3.27.9\n",
      "Note: you may need to restart the kernel to use updated packages.\n"
     ]
    }
   ],
   "source": [
    "%pip install cmake"
   ]
  },
  {
   "cell_type": "code",
   "execution_count": 13,
   "metadata": {},
   "outputs": [
    {
     "name": "stdout",
     "output_type": "stream",
     "text": [
      "/home/syunya-linux/デスクトップ/MyWorkspace/AR/20240409_fem\n"
     ]
    }
   ],
   "source": [
    "%cd 20240409_fem/"
   ]
  },
  {
   "cell_type": "code",
   "execution_count": 1,
   "metadata": {},
   "outputs": [
    {
     "name": "stdout",
     "output_type": "stream",
     "text": [
      "/home/syunya-linux/デスクトップ/MyWorkspace/AR/20240415_fem\n"
     ]
    }
   ],
   "source": [
    "!pwd"
   ]
  },
  {
   "cell_type": "code",
   "execution_count": 2,
   "metadata": {},
   "outputs": [
    {
     "name": "stdout",
     "output_type": "stream",
     "text": [
      "Cloning into 'pybind11'...\n",
      "remote: Enumerating objects: 27815, done.\u001b[K\n",
      "remote: Counting objects: 100% (565/565), done.\u001b[K\n",
      "remote: Compressing objects: 100% (250/250), done.\u001b[K\n",
      "remote: Total 27815 (delta 337), reused 458 (delta 275), pack-reused 27250\u001b[K\n",
      "Receiving objects: 100% (27815/27815), 11.13 MiB | 8.76 MiB/s, done.\n",
      "Resolving deltas: 100% (19525/19525), done.\n"
     ]
    }
   ],
   "source": [
    "!git clone https://github.com/pybind/pybind11.git"
   ]
  },
  {
   "cell_type": "code",
   "execution_count": null,
   "metadata": {},
   "outputs": [],
   "source": [
    "!mkdir meshfiles"
   ]
  },
  {
   "cell_type": "code",
   "execution_count": 3,
   "metadata": {},
   "outputs": [],
   "source": [
    "!mkdir build"
   ]
  },
  {
   "cell_type": "code",
   "execution_count": 6,
   "metadata": {},
   "outputs": [
    {
     "name": "stdout",
     "output_type": "stream",
     "text": [
      "/home/syubuntu1/デスクトップ/workspace/20231004/build\n",
      "-- pybind11 v2.12.0 dev1\n",
      "\u001b[33mCMake Warning (dev) at pybind11/tools/FindPythonLibsNew.cmake:101 (message):\n",
      "  Policy CMP0148 is not set: The FindPythonInterp and FindPythonLibs modules\n",
      "  are removed.  Run \"cmake --help-policy CMP0148\" for policy details.  Use\n",
      "  the cmake_policy command to set the policy and suppress this warning, or\n",
      "  preferably upgrade to using FindPython, either by calling it explicitly\n",
      "  before pybind11, or by setting PYBIND11_FINDPYTHON ON before pybind11.\n",
      "Call Stack (most recent call first):\n",
      "  pybind11/tools/pybind11Tools.cmake:50 (find_package)\n",
      "  pybind11/tools/pybind11Common.cmake:188 (include)\n",
      "  pybind11/CMakeLists.txt:221 (include)\n",
      "This warning is for project developers.  Use -Wno-dev to suppress it.\n",
      "\u001b[0m\n",
      "-- Configuring done (0.0s)\n",
      "-- Generating done (0.0s)\n",
      "-- Build files have been written to: /home/syubuntu1/デスクトップ/workspace/20231004/build\n",
      "[ 60%] Built target other\n",
      "[ 80%] \u001b[32m\u001b[1mLinking CXX shared module Carray.cpython-311-x86_64-linux-gnu.so\u001b[0m\n",
      "[100%] Built target Carray\n"
     ]
    }
   ],
   "source": [
    "%cd build\n",
    "!cmake ..\n",
    "!make"
   ]
  },
  {
   "cell_type": "code",
   "execution_count": 7,
   "metadata": {},
   "outputs": [
    {
     "name": "stdout",
     "output_type": "stream",
     "text": [
      "/home/syunya-linux/デスクトップ/MyWorkspace/AR/20240415_fem/build\n",
      "-- pybind11 v2.13.0 dev1\n",
      "-- Configuring done\n",
      "-- Generating done\n",
      "-- Build files have been written to: /home/syunya-linux/デスクトップ/MyWorkspace/AR/20240415_fem/build\n",
      "\u001b[35m\u001b[1mConsolidate compiler generated dependencies of target other\u001b[0m\n",
      "[ 42%] Built target other\n",
      "\u001b[35m\u001b[1mConsolidate compiler generated dependencies of target Carray\u001b[0m\n",
      "[ 57%] \u001b[32mBuilding CXX object CMakeFiles/Carray.dir/MyModule.cpp.o\u001b[0m\n",
      "[ 71%] \u001b[32m\u001b[1mLinking CXX shared module Carray.cpython-310-x86_64-linux-gnu.so\u001b[0m\n",
      "[ 71%] Built target Carray\n",
      "\u001b[35m\u001b[1mConsolidate compiler generated dependencies of target Cfunctions\u001b[0m\n",
      "[ 85%] \u001b[32m\u001b[1mLinking CXX shared module Cfunctions.cpython-310-x86_64-linux-gnu.so\u001b[0m\n",
      "[100%] Built target Cfunctions\n",
      "/home/syunya-linux/デスクトップ/MyWorkspace/AR/20240415_fem\n"
     ]
    }
   ],
   "source": [
    "%cd build\n",
    "!cmake ..\n",
    "!make\n",
    "%cd ..\n",
    "%mv ./build/Carray.cpython-310-x86_64-linux-gnu.so ./\n",
    "%mv ./build/Cfunctions.cpython-310-x86_64-linux-gnu.so ./"
   ]
  },
  {
   "cell_type": "code",
   "execution_count": 2,
   "metadata": {},
   "outputs": [
    {
     "name": "stdout",
     "output_type": "stream",
     "text": [
      "/home/syubuntu1/デスクトップ/workspace/AR/20231208_make_dataset_auto_parallel /build\n",
      "-- pybind11 v2.12.0 dev1\n",
      "\u001b[33mCMake Warning (dev) at pybind11/tools/FindPythonLibsNew.cmake:101 (message):\n",
      "  Policy CMP0148 is not set: The FindPythonInterp and FindPythonLibs modules\n",
      "  are removed.  Run \"cmake --help-policy CMP0148\" for policy details.  Use\n",
      "  the cmake_policy command to set the policy and suppress this warning, or\n",
      "  preferably upgrade to using FindPython, either by calling it explicitly\n",
      "  before pybind11, or by setting PYBIND11_FINDPYTHON ON before pybind11.\n",
      "Call Stack (most recent call first):\n",
      "  pybind11/tools/pybind11Tools.cmake:50 (find_package)\n",
      "  pybind11/tools/pybind11Common.cmake:188 (include)\n",
      "  pybind11/CMakeLists.txt:222 (include)\n",
      "This warning is for project developers.  Use -Wno-dev to suppress it.\n",
      "\u001b[0m\n"
     ]
    },
    {
     "name": "stdout",
     "output_type": "stream",
     "text": [
      "-- Configuring done (0.1s)\n",
      "-- Generating done (0.0s)\n",
      "-- Build files have been written to: /home/syubuntu1/デスクトップ/workspace/AR/20231208_make_dataset_auto_parallel /build\n",
      "[ 42%] Built target other\n",
      "[ 57%] \u001b[32mBuilding CXX object CMakeFiles/Carray.dir/MyModule.cpp.o\u001b[0m\n",
      "[ 71%] \u001b[32m\u001b[1mLinking CXX shared module Carray.cpython-311-x86_64-linux-gnu.so\u001b[0m\n",
      "[ 71%] Built target Carray\n",
      "[ 85%] \u001b[32m\u001b[1mLinking CXX shared module Cfunctions.cpython-311-x86_64-linux-gnu.so\u001b[0m\n",
      "[100%] Built target Cfunctions\n",
      "/home/syubuntu1/デスクトップ/workspace/AR/20231208_make_dataset_auto_parallel \n"
     ]
    }
   ],
   "source": [
    "%cd build\n",
    "!cmake ..\n",
    "!make\n",
    "%cd ..\n",
    "%mv ./build/Carray.cpython-311-x86_64-linux-gnu.so ./\n",
    "%mv ./build/Cfunctions.cpython-311-x86_64-linux-gnu.so ./"
   ]
  },
  {
   "cell_type": "code",
   "execution_count": 9,
   "metadata": {},
   "outputs": [
    {
     "name": "stdout",
     "output_type": "stream",
     "text": [
      "python3: can't open file '/home/syubuntu1/デスクトップ/workspace/20231004/test2.py': [Errno 2] No such file or directory\n"
     ]
    }
   ],
   "source": [
    "!python3 test2.py"
   ]
  }
 ],
 "metadata": {
  "kernelspec": {
   "display_name": "Python 3",
   "language": "python",
   "name": "python3"
  },
  "language_info": {
   "codemirror_mode": {
    "name": "ipython",
    "version": 3
   },
   "file_extension": ".py",
   "mimetype": "text/x-python",
   "name": "python",
   "nbconvert_exporter": "python",
   "pygments_lexer": "ipython3",
   "version": "3.10.12"
  },
  "orig_nbformat": 4
 },
 "nbformat": 4,
 "nbformat_minor": 2
}
